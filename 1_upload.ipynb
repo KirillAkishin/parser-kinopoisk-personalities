{
 "cells": [
  {
   "cell_type": "code",
   "execution_count": 1,
   "metadata": {},
   "outputs": [],
   "source": [
    "import logging\n",
    "logging.basicConfig(\n",
    "#         filename='file1.log',\n",
    "        level=logging.WARNING,\n",
    "        format='%(asctime)s %(levelname)s:\\t%(message)s',\n",
    "        datefmt='%Y-%m-%d %H:%M:%S')"
   ]
  },
  {
   "cell_type": "code",
   "execution_count": 2,
   "metadata": {},
   "outputs": [],
   "source": [
    "import re\n",
    "import requests\n",
    "from bs4 import BeautifulSoup\n",
    "import time\n",
    "from tqdm import tqdm_notebook\n",
    "import sys\n",
    "from datetime import datetime\n",
    "from lxml import etree, html as lhtml\n",
    "import pandas as pd\n",
    "# from multiprocessing import Pool\n",
    "# from multiprocessing.dummy import Pool as ThreadPool"
   ]
  },
  {
   "cell_type": "code",
   "execution_count": 5,
   "metadata": {
    "scrolled": true
   },
   "outputs": [],
   "source": [
    "def process_one_author_books(popular_main_page, site_name, f_write):\n",
    "    def find_the_number_of_iterations(author_soup):\n",
    "        total_pages = 50\n",
    "        total_actors = 10000\n",
    "        return total_pages, total_actors\n",
    "    def process_main_page(author_soup, curr_address):        \n",
    "        r_get = requests.get(curr_address)\n",
    "        tree = lhtml.fromstring(r_get.text)\n",
    "        table_el = tree.xpath('//div[@class=\"stat js-rum-hero\"]')\n",
    "        lst_el = table_el[0].xpath('//a[@style=\"font:100 12px arial,sans-serif\"]/attribute::href')\n",
    "        if books_descs is None:\n",
    "            logging.error('no books found:\\t{}'.format(curr_address))\n",
    "            return\n",
    "        for it in lst_el:\n",
    "            print(site_name + it, file=f_write)\n",
    "        logging.info('success:\\t\\t{}'.format(curr_address))  \n",
    "    def process_fork_page(curr_address):\n",
    "        for i in range(1, attempts_number+1):\n",
    "            r_get = requests.get(curr_address)\n",
    "            if (r_get.ok):\n",
    "                break\n",
    "            logging.error('bad get request ({}/{}):\\t{}'.format(i, attempts_number, curr_address))\n",
    "            time.sleep(1)\n",
    "        if not (r_get.ok):\n",
    "            return\n",
    "        author_soup = BeautifulSoup(r_get.text, 'lxml')\n",
    "        process_main_page(author_soup, curr_address)\n",
    "\n",
    "    for i in range(1, attempts_number+1):\n",
    "        r_get = requests.get(popular_main_page)\n",
    "        if (r_get.ok):\n",
    "            break\n",
    "        logging.error('bad get request ({}/{}):\\t{}'.format(i, attempts_number, popular_main_page))\n",
    "        time.sleep(1)\n",
    "    if not (r_get.ok):\n",
    "        return\n",
    "    \n",
    "    author_soup = BeautifulSoup(r_get.text, 'lxml')   \n",
    "    total_pages, _ = find_the_number_of_iterations(author_soup)\n",
    "    pages = []\n",
    "    for curr_page in range(2, total_pages+1):\n",
    "        pages.append(popular_main_page + 'page/{}/'.format(str(curr_page)))    \n",
    "#     with ThreadPool(processes=total_pages) as pool:\n",
    "#         pool.map(process_fork_page, pages)\n",
    "    process_main_page(author_soup, popular_main_page)\n",
    "    for page in pages:\n",
    "        process_fork_page(page)"
   ]
  },
  {
   "cell_type": "markdown",
   "metadata": {},
   "source": [
    "# 1 этап. Нахождение ссылок на людей."
   ]
  },
  {
   "cell_type": "code",
   "execution_count": 3,
   "metadata": {},
   "outputs": [],
   "source": [
    "actors_links_txt = 'actors_links.txt'\n",
    "popular_main_page = 'https://www.kinopoisk.ru/popular/names/day/2020-06-12/'\n",
    "site_name = 'https://www.kinopoisk.ru'\n",
    "\n",
    "attempts_number = 2"
   ]
  },
  {
   "cell_type": "code",
   "execution_count": 133,
   "metadata": {
    "scrolled": true
   },
   "outputs": [],
   "source": [
    "with open(actors_links_txt, 'w') as f_write:\n",
    "    process_one_author_books(popular_main_page, site_name, f_write)\n",
    "logging.info('completed')        "
   ]
  },
  {
   "cell_type": "code",
   "execution_count": null,
   "metadata": {},
   "outputs": [],
   "source": []
  }
 ],
 "metadata": {
  "kernelspec": {
   "display_name": "Python 3 (ipykernel)",
   "language": "python",
   "name": "python3"
  },
  "language_info": {
   "codemirror_mode": {
    "name": "ipython",
    "version": 3
   },
   "file_extension": ".py",
   "mimetype": "text/x-python",
   "name": "python",
   "nbconvert_exporter": "python",
   "pygments_lexer": "ipython3",
   "version": "3.12.1"
  }
 },
 "nbformat": 4,
 "nbformat_minor": 4
}
